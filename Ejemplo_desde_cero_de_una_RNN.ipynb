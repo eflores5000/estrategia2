{
  "nbformat": 4,
  "nbformat_minor": 0,
  "metadata": {
    "colab": {
      "provenance": [],
      "machine_shape": "hm",
      "gpuType": "A100",
      "authorship_tag": "ABX9TyOWt9Rv3VChSfydPZXZzbSv",
      "include_colab_link": true
    },
    "kernelspec": {
      "name": "python3",
      "display_name": "Python 3"
    },
    "language_info": {
      "name": "python"
    },
    "accelerator": "GPU"
  },
  "cells": [
    {
      "cell_type": "markdown",
      "metadata": {
        "id": "view-in-github",
        "colab_type": "text"
      },
      "source": [
        "<a href=\"https://colab.research.google.com/github/eflores5000/estrategia2/blob/main/Ejemplo_desde_cero_de_una_RNN.ipynb\" target=\"_parent\"><img src=\"https://colab.research.google.com/assets/colab-badge.svg\" alt=\"Open In Colab\"/></a>"
      ]
    },
    {
      "cell_type": "code",
      "execution_count": 1,
      "metadata": {
        "colab": {
          "base_uri": "https://localhost:8080/"
        },
        "id": "nj61bJDWxP_j",
        "outputId": "85acf669-890f-4746-defd-84536e34fcd3"
      },
      "outputs": [
        {
          "output_type": "stream",
          "name": "stdout",
          "text": [
            "\u001b[?25l   \u001b[90m━━━━━━━━━━━━━━━━━━━━━━━━━━━━━━━━━━━━━━━━\u001b[0m \u001b[32m0.0/129.1 kB\u001b[0m \u001b[31m?\u001b[0m eta \u001b[36m-:--:--\u001b[0m\r\u001b[2K   \u001b[91m━━━━━━━━━━━━━━━━━━━━━━━━━━━━━━━━━━━━━━\u001b[0m\u001b[90m╺\u001b[0m\u001b[90m━\u001b[0m \u001b[32m122.9/129.1 kB\u001b[0m \u001b[31m5.1 MB/s\u001b[0m eta \u001b[36m0:00:01\u001b[0m\r\u001b[2K   \u001b[90m━━━━━━━━━━━━━━━━━━━━━━━━━━━━━━━━━━━━━━━━\u001b[0m \u001b[32m129.1/129.1 kB\u001b[0m \u001b[31m3.3 MB/s\u001b[0m eta \u001b[36m0:00:00\u001b[0m\n",
            "\u001b[?25h"
          ]
        },
        {
          "output_type": "stream",
          "name": "stderr",
          "text": [
            "<ipython-input-1-2075bb2f3160>:9: DeprecationWarning: `import kerastuner` is deprecated, please use `import keras_tuner`.\n",
            "  import kerastuner as kt\n"
          ]
        },
        {
          "output_type": "stream",
          "name": "stdout",
          "text": [
            "Collecting quickdraw\n",
            "  Downloading quickdraw-1.0.0-py3-none-any.whl.metadata (1.3 kB)\n",
            "Requirement already satisfied: pillow in /usr/local/lib/python3.11/dist-packages (from quickdraw) (11.2.1)\n",
            "Requirement already satisfied: requests in /usr/local/lib/python3.11/dist-packages (from quickdraw) (2.32.3)\n",
            "Requirement already satisfied: charset-normalizer<4,>=2 in /usr/local/lib/python3.11/dist-packages (from requests->quickdraw) (3.4.1)\n",
            "Requirement already satisfied: idna<4,>=2.5 in /usr/local/lib/python3.11/dist-packages (from requests->quickdraw) (3.10)\n",
            "Requirement already satisfied: urllib3<3,>=1.21.1 in /usr/local/lib/python3.11/dist-packages (from requests->quickdraw) (2.4.0)\n",
            "Requirement already satisfied: certifi>=2017.4.17 in /usr/local/lib/python3.11/dist-packages (from requests->quickdraw) (2025.4.26)\n",
            "Downloading quickdraw-1.0.0-py3-none-any.whl (11 kB)\n",
            "Installing collected packages: quickdraw\n",
            "Successfully installed quickdraw-1.0.0\n"
          ]
        }
      ],
      "source": [
        "!pip install -q -U keras-tuner\n",
        "from keras.datasets import mnist\n",
        "from keras import layers, models\n",
        "from keras.utils import to_categorical\n",
        "import numpy as np\n",
        "import matplotlib.pyplot as plt\n",
        "from keras import regularizers\n",
        "from keras.callbacks import Callback\n",
        "import kerastuner as kt\n",
        "from keras import callbacks\n",
        "from keras import optimizers\n",
        "from keras import models\n",
        "from google.colab import files\n",
        "!pip install quickdraw\n",
        "from quickdraw import QuickDrawData\n",
        "from google.colab import output\n",
        "import os\n",
        "import math\n",
        "#from keras.preprocessing.image import ImageDataGenerator\n",
        "from tensorflow.keras.preprocessing.image import ImageDataGenerator\n",
        "import keras_tuner as kt\n",
        "from tensorflow.keras import layers, models, regularizers, optimizers\n"
      ]
    },
    {
      "cell_type": "code",
      "source": [
        "#https://quickdraw.readthedocs.io/en/latest/api.html#quickdrawdata\n",
        "qd_data = QuickDrawData(jit_loading=False, cache_dir='/content/quickdrawcache', print_messages=False)\n",
        "classes = qd_data.drawing_names"
      ],
      "metadata": {
        "id": "CMlj2kgDxWj3"
      },
      "execution_count": 2,
      "outputs": []
    },
    {
      "cell_type": "code",
      "source": [
        "#limitaré el dataset a 10 clases.\n",
        "classes = classes[:3]"
      ],
      "metadata": {
        "id": "UE5K2QsixZp2"
      },
      "execution_count": 8,
      "outputs": []
    },
    {
      "cell_type": "code",
      "source": [
        "!rm -r '/content/Dataset'\n",
        "!mkdir '/content/Dataset'\n",
        "!mkdir '/content/Dataset/Train'\n",
        "!mkdir '/content/Dataset/Test'\n",
        "\n",
        "\n",
        "imgs_w = 255\n",
        "imgs_h = 255\n",
        "\n",
        "\n",
        "def get_class_count(label):\n",
        "  max_index = 0\n",
        "  while True:\n",
        "    max_index+=1\n",
        "    try:\n",
        "      qd_data.get_drawing(label, max_index)\n",
        "    except:\n",
        "      break\n",
        "  return max_index\n",
        "\n",
        "def create_dir(dirpath):\n",
        "  try:\n",
        "    os.mkdir(dirpath)\n",
        "  except:\n",
        "    pass\n",
        "\n",
        "train_dir_base = \"/content/Dataset/Train\"\n",
        "test_dir_base = \"/content/Dataset/Test\"\n",
        "\n",
        "\n",
        "for each_class in classes:\n",
        "\n",
        "  train_dir = f\"{train_dir_base}/{each_class.replace(' ', '_')}\"\n",
        "  test_dir = f\"{test_dir_base}/{each_class.replace(' ', '_')}\"\n",
        "\n",
        "  create_dir(train_dir)\n",
        "  create_dir(test_dir)\n",
        "\n",
        "  class_data_count = get_class_count(each_class)\n",
        "\n",
        "  train_index = 0\n",
        "  for i in range(math.floor(class_data_count*0.9)):\n",
        "    img = qd_data.get_drawing(each_class, train_index)\n",
        "    filename = f\"{each_class.replace(' ', '_')}_{train_index}.jpg\"\n",
        "    img.image.save(f\"{train_dir}/{filename}\")\n",
        "    train_index+=1\n",
        "\n",
        "  test_index = 0\n",
        "  for i in range(math.floor(class_data_count*0.9), class_data_count):\n",
        "    img = qd_data.get_drawing(each_class, test_index)\n",
        "    filename = f\"{each_class.replace(' ', '_')}_{test_index}.jpg\"\n",
        "    img.image.save(f\"{test_dir}/{filename}\")\n",
        "    test_index+=1\n",
        "\n",
        "# Usamos un “data generator” para tener un dataset más grande.\n",
        "# Básicamente ésto lo que hace es crear imágenes nuevas a partir del dataset original.\n",
        "# Lo hace aplicando transformaciones como zoom, traslación o rotación.\n",
        "\n",
        "train_datagen = ImageDataGenerator(rescale = 1/255)\n",
        "test_datagen = ImageDataGenerator(rescale = 1/255, validation_split = 0.2)\n",
        "\n",
        "# Dividimos el dataset en datos de entrenamiento, validación y test.\n",
        "train_generator = train_datagen.flow_from_directory(\n",
        "  train_dir_base,\n",
        "  target_size = (imgs_w,imgs_h),\n",
        "  batch_size = 128,\n",
        "  class_mode = 'categorical',\n",
        "  color_mode = 'grayscale',\n",
        "  subset = 'training'\n",
        ")\n",
        "val_generator = test_datagen.flow_from_directory(\n",
        "  test_dir_base,\n",
        "  target_size = (imgs_w,imgs_h),\n",
        "  batch_size = 128,\n",
        "  class_mode = 'categorical',\n",
        "  color_mode = 'grayscale',\n",
        "  subset = 'validation'\n",
        ")\n",
        "test_generator = test_datagen.flow_from_directory(\n",
        "  test_dir_base,\n",
        "  target_size = (imgs_w,imgs_h),\n",
        "  batch_size = 128,\n",
        "  class_mode = 'categorical',\n",
        "  color_mode = 'grayscale'\n",
        ")"
      ],
      "metadata": {
        "colab": {
          "base_uri": "https://localhost:8080/"
        },
        "id": "6J32CoOExdnG",
        "outputId": "cc303dc9-8105-4a5c-d277-56973ea37d08"
      },
      "execution_count": 9,
      "outputs": [
        {
          "output_type": "stream",
          "name": "stdout",
          "text": [
            "Found 2700 images belonging to 3 classes.\n",
            "Found 60 images belonging to 3 classes.\n",
            "Found 300 images belonging to 3 classes.\n"
          ]
        }
      ]
    },
    {
      "cell_type": "code",
      "source": [
        "# Paso muy importante, buscamos los hyperparámetros ideales para nuestro modelo.\n",
        "\n",
        "def model_generator(hp):\n",
        "# numero filtros convoluciones\n",
        "  filters = hp.Choice('filters', values=[32, 64, 128]) #numero de neuronas\n",
        "  hp_learning_rate = hp.Choice('learning_rate', values=[1e-2, 1e-3, 1e-4])\n",
        "\n",
        "  model = models.Sequential() # convolution layers:\n",
        "\n",
        "  # Bloque 1\n",
        "  model.add(layers.Conv2D(filters, (3,3), padding='same', activation='relu', kernel_regularizer=regularizers.l2(1e-5), input_shape=(imgs_w,imgs_h,1))),\n",
        "  model.add(layers.Conv2D(filters, (3,3), padding='same', activation='relu', kernel_regularizer=regularizers.l2(1e-5))),\n",
        "  model.add(layers.MaxPool2D((2,2))),\n",
        "\n",
        "  # Bloque 2\n",
        "  model.add(layers.Conv2D(filters*2, (3,3), padding='same', activation='relu', kernel_regularizer=regularizers.l2(1e-5))),\n",
        "  model.add(layers.Conv2D(filters*2, (3,3), padding='same', activation='relu', kernel_regularizer=regularizers.l2(1e-5))),\n",
        "  model.add(layers.MaxPool2D((2,2))),\n",
        "  model.add(layers.Dropout(0.3)),\n",
        "\n",
        "  # Bloque 3\n",
        "  model.add(layers.Conv2D(filters*4, (3,3), padding='same', activation='relu', kernel_regularizer=regularizers.l2(1e-5))),\n",
        "  model.add(layers.Conv2D(filters*4, (3,3), padding='same', activation='relu', kernel_regularizer=regularizers.l2(1e-5))),\n",
        "  model.add(layers.MaxPool2D((2,2))),\n",
        "  model.add(layers.Dropout(0.4)),  # capa del input del clasificador:\n",
        "\n",
        "  # Clasificador\n",
        "  model.add(layers.Flatten()),     #numero de neuronas\n",
        "\n",
        "  # Red oculta opcional:\n",
        "  #hp_units = hp.Int(“units”, min_value = 32, max_value=512, step=32)# hidden layers:\n",
        "  #model.add(layers.Dense(units = hp_units, activation=’relu’, kernel_regularizer=regularizers.l2(1e-5))),\n",
        "  #model.add(layers.Dense(units = hp_units/2, activation=’relu’, kernel_regularizer=regularizers.l2(1e-5))),\n",
        "\n",
        "  model.add(layers.Dropout(0.2)),# output layer\n",
        "\n",
        "  # Capa de salida\n",
        "  model.add(layers.Dense(len(classes),activation='softmax'))\n",
        "\n",
        "  # Compilación\n",
        "  model.compile(optimizer= optimizers.Adam(learning_rate=hp_learning_rate),\n",
        "    loss='categorical_crossentropy',\n",
        "    metrics=['accuracy'])\n",
        "  return model\n",
        "\n",
        "tuner = kt.Hyperband(\n",
        "  model_generator,\n",
        "  objective = 'val_accuracy',\n",
        "  max_epochs = 20,\n",
        "  directory = 'models',\n",
        "  project_name = 'psm'\n",
        ")\n",
        "\n",
        "tuner.search(train_generator, epochs = 20, validation_data=val_generator)\n",
        "best_hps = tuner.get_best_hyperparameters(num_trials = 1)[0]\n",
        "print(best_hps)\n",
        "\n",
        "# Mejor combinación\n",
        "best_hps = tuner.get_best_hyperparameters(num_trials=1)[0]\n",
        "print(f\"🔎 Mejores hiperparámetros encontrados:\")\n",
        "print(f\"  - Filtros: {best_hps.get('filters')}\")\n",
        "print(f\"  - Learning rate: {best_hps.get('learning_rate')}\")\n",
        "#print(f\"  - Neuronas en capa densa: {best_hps.get('units')}\")\n"
      ],
      "metadata": {
        "colab": {
          "base_uri": "https://localhost:8080/",
          "height": 490
        },
        "id": "SAInPiQu0e8Y",
        "outputId": "5c568b38-779a-4568-a92e-f742ce8dd8ce"
      },
      "execution_count": 10,
      "outputs": [
        {
          "output_type": "stream",
          "name": "stdout",
          "text": [
            "Trial 9 Complete [00h 00m 18s]\n",
            "val_accuracy: 0.7166666388511658\n",
            "\n",
            "Best val_accuracy So Far: 0.8999999761581421\n",
            "Total elapsed time: 00h 19m 48s\n",
            "<keras_tuner.src.engine.hyperparameters.hyperparameters.HyperParameters object at 0x7a55e07b5e10>\n",
            "🔎 Mejores hiperparámetros encontrados:\n",
            "  - Filtros: 128\n",
            "  - Learning rate: 0.0001\n"
          ]
        },
        {
          "output_type": "error",
          "ename": "KeyError",
          "evalue": "'units does not exist.'",
          "traceback": [
            "\u001b[0;31m---------------------------------------------------------------------------\u001b[0m",
            "\u001b[0;31mKeyError\u001b[0m                                  Traceback (most recent call last)",
            "\u001b[0;32m<ipython-input-10-c9c716a0a25d>\u001b[0m in \u001b[0;36m<cell line: 0>\u001b[0;34m()\u001b[0m\n\u001b[1;32m     61\u001b[0m \u001b[0mprint\u001b[0m\u001b[0;34m(\u001b[0m\u001b[0;34mf\"  - Filtros: {best_hps.get('filters')}\"\u001b[0m\u001b[0;34m)\u001b[0m\u001b[0;34m\u001b[0m\u001b[0;34m\u001b[0m\u001b[0m\n\u001b[1;32m     62\u001b[0m \u001b[0mprint\u001b[0m\u001b[0;34m(\u001b[0m\u001b[0;34mf\"  - Learning rate: {best_hps.get('learning_rate')}\"\u001b[0m\u001b[0;34m)\u001b[0m\u001b[0;34m\u001b[0m\u001b[0;34m\u001b[0m\u001b[0m\n\u001b[0;32m---> 63\u001b[0;31m \u001b[0mprint\u001b[0m\u001b[0;34m(\u001b[0m\u001b[0;34mf\"  - Neuronas en capa densa: {best_hps.get('units')}\"\u001b[0m\u001b[0;34m)\u001b[0m\u001b[0;34m\u001b[0m\u001b[0;34m\u001b[0m\u001b[0m\n\u001b[0m",
            "\u001b[0;32m/usr/local/lib/python3.11/dist-packages/keras_tuner/src/engine/hyperparameters/hyperparameters.py\u001b[0m in \u001b[0;36mget\u001b[0;34m(self, name)\u001b[0m\n\u001b[1;32m    244\u001b[0m             \u001b[0;32mraise\u001b[0m \u001b[0mValueError\u001b[0m\u001b[0;34m(\u001b[0m\u001b[0;34mf\"{name} is currently inactive.\"\u001b[0m\u001b[0;34m)\u001b[0m\u001b[0;34m\u001b[0m\u001b[0;34m\u001b[0m\u001b[0m\n\u001b[1;32m    245\u001b[0m         \u001b[0;32melse\u001b[0m\u001b[0;34m:\u001b[0m\u001b[0;34m\u001b[0m\u001b[0;34m\u001b[0m\u001b[0m\n\u001b[0;32m--> 246\u001b[0;31m             \u001b[0;32mraise\u001b[0m \u001b[0mKeyError\u001b[0m\u001b[0;34m(\u001b[0m\u001b[0;34mf\"{name} does not exist.\"\u001b[0m\u001b[0;34m)\u001b[0m\u001b[0;34m\u001b[0m\u001b[0;34m\u001b[0m\u001b[0m\n\u001b[0m\u001b[1;32m    247\u001b[0m \u001b[0;34m\u001b[0m\u001b[0m\n\u001b[1;32m    248\u001b[0m     \u001b[0;32mdef\u001b[0m \u001b[0m__getitem__\u001b[0m\u001b[0;34m(\u001b[0m\u001b[0mself\u001b[0m\u001b[0;34m,\u001b[0m \u001b[0mname\u001b[0m\u001b[0;34m)\u001b[0m\u001b[0;34m:\u001b[0m\u001b[0;34m\u001b[0m\u001b[0;34m\u001b[0m\u001b[0m\n",
            "\u001b[0;31mKeyError\u001b[0m: 'units does not exist.'"
          ]
        }
      ]
    },
    {
      "cell_type": "code",
      "source": [
        "# Por aquí personalizamos un callback que se llamará cada época para detener el\n",
        "# entrenamiento si llegamos al 0.99 de accuracy en los datos de validación.\n",
        "\n",
        "class TrainingCallback(Callback):\n",
        "  def on_epoch_end(self, epoch, logs = {}):\n",
        "    if logs.get('val_accuracy') > 0.99:\n",
        "      print('Model reached 99,9% of accuracy. Stopping training.')\n",
        "      self.model.stop_training = True\n"
      ],
      "metadata": {
        "id": "LnxosGrL2ubQ"
      },
      "execution_count": 11,
      "outputs": []
    },
    {
      "cell_type": "code",
      "source": [
        "#Configuramos el criterio para guardar los pesos del modelo para que se guarde el\n",
        "#punto del entrenamiento con mejor accuracy en los datos de validación.\n",
        "\n",
        "checkpoint_save = callbacks.ModelCheckpoint(\n",
        "  filepath = 'model_checkpoints/checkpoint.h5',\n",
        "  save_freq = 'epoch',\n",
        "  save_weights_only = False,\n",
        "  monitor = 'val_accuracy',\n",
        "  save_best_only = True,\n",
        "  verbose = 1\n",
        ")"
      ],
      "metadata": {
        "id": "WaH4uqg96rvB"
      },
      "execution_count": 20,
      "outputs": []
    },
    {
      "cell_type": "code",
      "source": [
        "#Instanciamos el modelo con los parámetros más eficientes.\n",
        "model = model_generator(best_hps)"
      ],
      "metadata": {
        "colab": {
          "base_uri": "https://localhost:8080/"
        },
        "id": "PAh8_o3b6_TS",
        "outputId": "2a788c26-2d64-4870-eb64-a07f7c1ad034"
      },
      "execution_count": 21,
      "outputs": [
        {
          "output_type": "stream",
          "name": "stderr",
          "text": [
            "/usr/local/lib/python3.11/dist-packages/keras/src/layers/convolutional/base_conv.py:107: UserWarning: Do not pass an `input_shape`/`input_dim` argument to a layer. When using Sequential models, prefer using an `Input(shape)` object as the first layer in the model instead.\n",
            "  super().__init__(activity_regularizer=activity_regularizer, **kwargs)\n"
          ]
        }
      ]
    },
    {
      "cell_type": "code",
      "source": [
        "#Si ya lo tuviéramos guardado, lo gargaríamos del siguiente modo:\n",
        "#model = models.load_model(“model_checkpoints/checkpoint”)\n"
      ],
      "metadata": {
        "id": "DyG2mfrO7CYx"
      },
      "execution_count": null,
      "outputs": []
    },
    {
      "cell_type": "code",
      "source": [
        "#Procedemos al entrenamiento:\n",
        "train_epochs = 10\n",
        "early_stop_patience = 3\n",
        "train_history = model.fit(\n",
        "  train_generator,\n",
        "  epochs=train_epochs,\n",
        "  batch_size=128,\n",
        "  validation_data=val_generator,\n",
        "  callbacks = [\n",
        "  checkpoint_save,\n",
        "  #TrainingCallback(),\n",
        "  callbacks.EarlyStopping(monitor = 'val_loss', patience=10, mode = 'auto')\n",
        "  ] )"
      ],
      "metadata": {
        "colab": {
          "base_uri": "https://localhost:8080/"
        },
        "id": "ucsmPvfJ7IHJ",
        "outputId": "facab450-a53d-4895-ff28-8691be943c54"
      },
      "execution_count": 23,
      "outputs": [
        {
          "output_type": "stream",
          "name": "stdout",
          "text": [
            "Epoch 1/10\n",
            "\u001b[1m22/22\u001b[0m \u001b[32m━━━━━━━━━━━━━━━━━━━━\u001b[0m\u001b[37m\u001b[0m \u001b[1m0s\u001b[0m 386ms/step - accuracy: 0.5041 - loss: 1.0210\n",
            "Epoch 1: val_accuracy improved from -inf to 0.73333, saving model to model_checkpoints/checkpoint.h5\n"
          ]
        },
        {
          "output_type": "stream",
          "name": "stderr",
          "text": [
            "WARNING:absl:You are saving your model as an HDF5 file via `model.save()` or `keras.saving.save_model(model)`. This file format is considered legacy. We recommend using instead the native Keras format, e.g. `model.save('my_model.keras')` or `keras.saving.save_model(model, 'my_model.keras')`. \n"
          ]
        },
        {
          "output_type": "stream",
          "name": "stdout",
          "text": [
            "\b\b\b\b\b\b\b\b\b\b\b\b\b\b\b\b\b\b\b\b\b\b\b\b\b\b\b\b\b\b\b\b\b\b\b\b\b\b\b\b\b\b\b\b\b\b\b\b\b\b\b\b\b\b\b\b\b\b\b\b\b\b\b\b\b\b\b\b\b\b\b\b\b\b\r\u001b[1m22/22\u001b[0m \u001b[32m━━━━━━━━━━━━━━━━━━━━\u001b[0m\u001b[37m\u001b[0m \u001b[1m16s\u001b[0m 735ms/step - accuracy: 0.5081 - loss: 1.0160 - val_accuracy: 0.7333 - val_loss: 0.8416\n",
            "Epoch 2/10\n",
            "\u001b[1m22/22\u001b[0m \u001b[32m━━━━━━━━━━━━━━━━━━━━\u001b[0m\u001b[37m\u001b[0m \u001b[1m0s\u001b[0m 385ms/step - accuracy: 0.7491 - loss: 0.7112\n",
            "Epoch 2: val_accuracy did not improve from 0.73333\n",
            "\u001b[1m22/22\u001b[0m \u001b[32m━━━━━━━━━━━━━━━━━━━━\u001b[0m\u001b[37m\u001b[0m \u001b[1m9s\u001b[0m 393ms/step - accuracy: 0.7494 - loss: 0.7108 - val_accuracy: 0.7000 - val_loss: 0.8120\n",
            "Epoch 3/10\n",
            "\u001b[1m21/22\u001b[0m \u001b[32m━━━━━━━━━━━━━━━━━━━\u001b[0m\u001b[37m━\u001b[0m \u001b[1m0s\u001b[0m 399ms/step - accuracy: 0.7576 - loss: 0.6386\n",
            "Epoch 3: val_accuracy improved from 0.73333 to 0.76667, saving model to model_checkpoints/checkpoint.h5\n"
          ]
        },
        {
          "output_type": "stream",
          "name": "stderr",
          "text": [
            "WARNING:absl:You are saving your model as an HDF5 file via `model.save()` or `keras.saving.save_model(model)`. This file format is considered legacy. We recommend using instead the native Keras format, e.g. `model.save('my_model.keras')` or `keras.saving.save_model(model, 'my_model.keras')`. \n"
          ]
        },
        {
          "output_type": "stream",
          "name": "stdout",
          "text": [
            "\b\b\b\b\b\b\b\b\b\b\b\b\b\b\b\b\b\b\b\b\b\b\b\b\b\b\b\b\b\b\b\b\b\b\b\b\b\b\b\b\b\b\b\b\b\b\b\b\b\b\b\b\b\b\b\b\b\b\b\b\b\b\b\b\b\b\b\b\b\b\b\b\b\b\r\u001b[1m22/22\u001b[0m \u001b[32m━━━━━━━━━━━━━━━━━━━━\u001b[0m\u001b[37m\u001b[0m \u001b[1m9s\u001b[0m 397ms/step - accuracy: 0.7590 - loss: 0.6379 - val_accuracy: 0.7667 - val_loss: 0.6868\n",
            "Epoch 4/10\n",
            "\u001b[1m22/22\u001b[0m \u001b[32m━━━━━━━━━━━━━━━━━━━━\u001b[0m\u001b[37m\u001b[0m \u001b[1m0s\u001b[0m 387ms/step - accuracy: 0.7955 - loss: 0.5497\n",
            "Epoch 4: val_accuracy improved from 0.76667 to 0.83333, saving model to model_checkpoints/checkpoint.h5\n"
          ]
        },
        {
          "output_type": "stream",
          "name": "stderr",
          "text": [
            "WARNING:absl:You are saving your model as an HDF5 file via `model.save()` or `keras.saving.save_model(model)`. This file format is considered legacy. We recommend using instead the native Keras format, e.g. `model.save('my_model.keras')` or `keras.saving.save_model(model, 'my_model.keras')`. \n"
          ]
        },
        {
          "output_type": "stream",
          "name": "stdout",
          "text": [
            "\b\b\b\b\b\b\b\b\b\b\b\b\b\b\b\b\b\b\b\b\b\b\b\b\b\b\b\b\b\b\b\b\b\b\b\b\b\b\b\b\b\b\b\b\b\b\b\b\b\b\b\b\b\b\b\b\b\b\b\b\b\b\b\b\b\b\b\b\b\b\b\b\b\b\r\u001b[1m22/22\u001b[0m \u001b[32m━━━━━━━━━━━━━━━━━━━━\u001b[0m\u001b[37m\u001b[0m \u001b[1m9s\u001b[0m 403ms/step - accuracy: 0.7958 - loss: 0.5488 - val_accuracy: 0.8333 - val_loss: 0.4784\n",
            "Epoch 5/10\n",
            "\u001b[1m22/22\u001b[0m \u001b[32m━━━━━━━━━━━━━━━━━━━━\u001b[0m\u001b[37m\u001b[0m \u001b[1m0s\u001b[0m 385ms/step - accuracy: 0.8538 - loss: 0.4112\n",
            "Epoch 5: val_accuracy improved from 0.83333 to 0.91667, saving model to model_checkpoints/checkpoint.h5\n"
          ]
        },
        {
          "output_type": "stream",
          "name": "stderr",
          "text": [
            "WARNING:absl:You are saving your model as an HDF5 file via `model.save()` or `keras.saving.save_model(model)`. This file format is considered legacy. We recommend using instead the native Keras format, e.g. `model.save('my_model.keras')` or `keras.saving.save_model(model, 'my_model.keras')`. \n"
          ]
        },
        {
          "output_type": "stream",
          "name": "stdout",
          "text": [
            "\b\b\b\b\b\b\b\b\b\b\b\b\b\b\b\b\b\b\b\b\b\b\b\b\b\b\b\b\b\b\b\b\b\b\b\b\b\b\b\b\b\b\b\b\b\b\b\b\b\b\b\b\b\b\b\b\b\b\b\b\b\b\b\b\b\b\b\b\b\b\b\b\b\b\r\u001b[1m22/22\u001b[0m \u001b[32m━━━━━━━━━━━━━━━━━━━━\u001b[0m\u001b[37m\u001b[0m \u001b[1m9s\u001b[0m 401ms/step - accuracy: 0.8537 - loss: 0.4114 - val_accuracy: 0.9167 - val_loss: 0.3086\n",
            "Epoch 6/10\n",
            "\u001b[1m22/22\u001b[0m \u001b[32m━━━━━━━━━━━━━━━━━━━━\u001b[0m\u001b[37m\u001b[0m \u001b[1m0s\u001b[0m 387ms/step - accuracy: 0.8746 - loss: 0.3314\n",
            "Epoch 6: val_accuracy improved from 0.91667 to 0.96667, saving model to model_checkpoints/checkpoint.h5\n"
          ]
        },
        {
          "output_type": "stream",
          "name": "stderr",
          "text": [
            "WARNING:absl:You are saving your model as an HDF5 file via `model.save()` or `keras.saving.save_model(model)`. This file format is considered legacy. We recommend using instead the native Keras format, e.g. `model.save('my_model.keras')` or `keras.saving.save_model(model, 'my_model.keras')`. \n"
          ]
        },
        {
          "output_type": "stream",
          "name": "stdout",
          "text": [
            "\b\b\b\b\b\b\b\b\b\b\b\b\b\b\b\b\b\b\b\b\b\b\b\b\b\b\b\b\b\b\b\b\b\b\b\b\b\b\b\b\b\b\b\b\b\b\b\b\b\b\b\b\b\b\b\b\b\b\b\b\b\b\b\b\b\b\b\b\b\b\b\b\b\b\r\u001b[1m22/22\u001b[0m \u001b[32m━━━━━━━━━━━━━━━━━━━━\u001b[0m\u001b[37m\u001b[0m \u001b[1m9s\u001b[0m 402ms/step - accuracy: 0.8745 - loss: 0.3319 - val_accuracy: 0.9667 - val_loss: 0.2105\n",
            "Epoch 7/10\n",
            "\u001b[1m22/22\u001b[0m \u001b[32m━━━━━━━━━━━━━━━━━━━━\u001b[0m\u001b[37m\u001b[0m \u001b[1m0s\u001b[0m 385ms/step - accuracy: 0.8915 - loss: 0.2893\n",
            "Epoch 7: val_accuracy did not improve from 0.96667\n",
            "\u001b[1m22/22\u001b[0m \u001b[32m━━━━━━━━━━━━━━━━━━━━\u001b[0m\u001b[37m\u001b[0m \u001b[1m9s\u001b[0m 393ms/step - accuracy: 0.8913 - loss: 0.2894 - val_accuracy: 0.9667 - val_loss: 0.1630\n",
            "Epoch 8/10\n",
            "\u001b[1m22/22\u001b[0m \u001b[32m━━━━━━━━━━━━━━━━━━━━\u001b[0m\u001b[37m\u001b[0m \u001b[1m0s\u001b[0m 385ms/step - accuracy: 0.9074 - loss: 0.2336\n",
            "Epoch 8: val_accuracy did not improve from 0.96667\n",
            "\u001b[1m22/22\u001b[0m \u001b[32m━━━━━━━━━━━━━━━━━━━━\u001b[0m\u001b[37m\u001b[0m \u001b[1m9s\u001b[0m 393ms/step - accuracy: 0.9071 - loss: 0.2343 - val_accuracy: 0.9500 - val_loss: 0.1643\n",
            "Epoch 9/10\n",
            "\u001b[1m22/22\u001b[0m \u001b[32m━━━━━━━━━━━━━━━━━━━━\u001b[0m\u001b[37m\u001b[0m \u001b[1m0s\u001b[0m 385ms/step - accuracy: 0.9118 - loss: 0.2359\n",
            "Epoch 9: val_accuracy did not improve from 0.96667\n",
            "\u001b[1m22/22\u001b[0m \u001b[32m━━━━━━━━━━━━━━━━━━━━\u001b[0m\u001b[37m\u001b[0m \u001b[1m9s\u001b[0m 392ms/step - accuracy: 0.9125 - loss: 0.2348 - val_accuracy: 0.9333 - val_loss: 0.1488\n",
            "Epoch 10/10\n",
            "\u001b[1m22/22\u001b[0m \u001b[32m━━━━━━━━━━━━━━━━━━━━\u001b[0m\u001b[37m\u001b[0m \u001b[1m0s\u001b[0m 387ms/step - accuracy: 0.9421 - loss: 0.1634\n",
            "Epoch 10: val_accuracy improved from 0.96667 to 0.98333, saving model to model_checkpoints/checkpoint.h5\n"
          ]
        },
        {
          "output_type": "stream",
          "name": "stderr",
          "text": [
            "WARNING:absl:You are saving your model as an HDF5 file via `model.save()` or `keras.saving.save_model(model)`. This file format is considered legacy. We recommend using instead the native Keras format, e.g. `model.save('my_model.keras')` or `keras.saving.save_model(model, 'my_model.keras')`. \n"
          ]
        },
        {
          "output_type": "stream",
          "name": "stdout",
          "text": [
            "\b\b\b\b\b\b\b\b\b\b\b\b\b\b\b\b\b\b\b\b\b\b\b\b\b\b\b\b\b\b\b\b\b\b\b\b\b\b\b\b\b\b\b\b\b\b\b\b\b\b\b\b\b\b\b\b\b\b\b\b\b\b\b\b\b\b\b\b\b\b\b\b\b\b\r\u001b[1m22/22\u001b[0m \u001b[32m━━━━━━━━━━━━━━━━━━━━\u001b[0m\u001b[37m\u001b[0m \u001b[1m9s\u001b[0m 403ms/step - accuracy: 0.9420 - loss: 0.1635 - val_accuracy: 0.9833 - val_loss: 0.0855\n"
          ]
        }
      ]
    },
    {
      "cell_type": "code",
      "source": [
        "#Guardamos el modelo: ¡Qué no se pierda!\n",
        "!zip -r /content/model_checkpoint.zip /content/model_checkpoints\n",
        "files.download('/content/model_checkpoint.zip')\n"
      ],
      "metadata": {
        "colab": {
          "base_uri": "https://localhost:8080/",
          "height": 53
        },
        "id": "No55XbvG7X6R",
        "outputId": "17b7f44a-d5a1-48e5-f83c-21919e82504e"
      },
      "execution_count": 24,
      "outputs": [
        {
          "output_type": "stream",
          "name": "stdout",
          "text": [
            "  adding: content/model_checkpoints/ (stored 0%)\n",
            "  adding: content/model_checkpoints/checkpoint.h5 (deflated 6%)\n"
          ]
        },
        {
          "output_type": "display_data",
          "data": {
            "text/plain": [
              "<IPython.core.display.Javascript object>"
            ],
            "application/javascript": [
              "\n",
              "    async function download(id, filename, size) {\n",
              "      if (!google.colab.kernel.accessAllowed) {\n",
              "        return;\n",
              "      }\n",
              "      const div = document.createElement('div');\n",
              "      const label = document.createElement('label');\n",
              "      label.textContent = `Downloading \"${filename}\": `;\n",
              "      div.appendChild(label);\n",
              "      const progress = document.createElement('progress');\n",
              "      progress.max = size;\n",
              "      div.appendChild(progress);\n",
              "      document.body.appendChild(div);\n",
              "\n",
              "      const buffers = [];\n",
              "      let downloaded = 0;\n",
              "\n",
              "      const channel = await google.colab.kernel.comms.open(id);\n",
              "      // Send a message to notify the kernel that we're ready.\n",
              "      channel.send({})\n",
              "\n",
              "      for await (const message of channel.messages) {\n",
              "        // Send a message to notify the kernel that we're ready.\n",
              "        channel.send({})\n",
              "        if (message.buffers) {\n",
              "          for (const buffer of message.buffers) {\n",
              "            buffers.push(buffer);\n",
              "            downloaded += buffer.byteLength;\n",
              "            progress.value = downloaded;\n",
              "          }\n",
              "        }\n",
              "      }\n",
              "      const blob = new Blob(buffers, {type: 'application/binary'});\n",
              "      const a = document.createElement('a');\n",
              "      a.href = window.URL.createObjectURL(blob);\n",
              "      a.download = filename;\n",
              "      div.appendChild(a);\n",
              "      a.click();\n",
              "      div.remove();\n",
              "    }\n",
              "  "
            ]
          },
          "metadata": {}
        },
        {
          "output_type": "display_data",
          "data": {
            "text/plain": [
              "<IPython.core.display.Javascript object>"
            ],
            "application/javascript": [
              "download(\"download_9d9ccd19-c16a-4096-af09-370f55ab32cc\", \"model_checkpoint.zip\", 67970887)"
            ]
          },
          "metadata": {}
        }
      ]
    },
    {
      "cell_type": "code",
      "source": [
        "#Observamos los resultados:\n",
        "\n",
        "results = model.evaluate(train_generator)"
      ],
      "metadata": {
        "colab": {
          "base_uri": "https://localhost:8080/"
        },
        "id": "2RdDQMO47e3b",
        "outputId": "53f51ea3-27ec-419a-802c-bccc4c08a9ef"
      },
      "execution_count": 25,
      "outputs": [
        {
          "output_type": "stream",
          "name": "stdout",
          "text": [
            "\u001b[1m22/22\u001b[0m \u001b[32m━━━━━━━━━━━━━━━━━━━━\u001b[0m\u001b[37m\u001b[0m \u001b[1m5s\u001b[0m 209ms/step - accuracy: 0.9611 - loss: 0.1223\n"
          ]
        }
      ]
    },
    {
      "cell_type": "code",
      "source": [
        "# Función para graficar entrenamiento:\n",
        "\n",
        "#@title Función para graficar entrenamiento\n",
        "def show_train_history(history, show_acc = False):\n",
        "  epochs = [i for i in range(len(history.history['accuracy']))]\n",
        "  train_acc = history.history['accuracy']\n",
        "  train_loss = history.history['loss']\n",
        "  val_acc = history.history['val_accuracy']\n",
        "  val_loss = history.history['val_loss']\n",
        "  fig, ax = plt.subplots(1, 2 if show_acc else 1)\n",
        "  fig.set_size_inches(16 if show_acc else 10, 9)\n",
        "  if show_acc:\n",
        "    ax[1].plot(epochs, train_acc, 'go-', label = 'Train accuracy')\n",
        "    ax[1].plot(epochs, val_acc, 'ro-', label = 'Validation accuracy')\n",
        "    ax[1].set_title('Train history Acc')\n",
        "    ax[1].legend()\n",
        "    ax[1].set_xlabel('Epochs')\n",
        "    ax[1].set_ylabel('Accuracy')\n",
        "    ax[0].plot(epochs, train_loss, 'go-', label = 'Train accuracy')\n",
        "    ax[0].plot(epochs, val_loss, 'ro-', label = 'Validation accuracy')\n",
        "    ax[0].set_title('Train history Loss')\n",
        "    ax[0].legend()\n",
        "    ax[0].set_xlabel('Epochs')\n",
        "    ax[0].set_ylabel('Loss')\n",
        "  else:\n",
        "    ax.plot(epochs, train_loss, 'go-', label = 'Train accuracy')\n",
        "    ax.plot(epochs, val_loss, 'ro-', label = 'Validation accuracy')\n",
        "    ax.set_title('Train history Loss')\n",
        "    ax.legend()\n",
        "    ax.set_xlabel('Epochs')\n",
        "    ax.set_ylabel('Loss')\n",
        "  plt.show()\n",
        "\n",
        "show_train_history(train_history)"
      ],
      "metadata": {
        "colab": {
          "base_uri": "https://localhost:8080/",
          "height": 770
        },
        "id": "Lpo-ydRY7r6B",
        "outputId": "520cd92b-11c0-44a3-895d-826c3c31ab44"
      },
      "execution_count": 26,
      "outputs": [
        {
          "output_type": "display_data",
          "data": {
            "text/plain": [
              "<Figure size 1000x900 with 1 Axes>"
            ],
            "image/png": "[encoded data removed]"
          },
          "metadata": {}
        }
      ]
    }
  ]
}